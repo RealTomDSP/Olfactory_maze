{
 "cells": [
  {
   "cell_type": "markdown",
   "id": "1729e3ca-a887-482e-89cd-07d12a0820c6",
   "metadata": {
    "tags": []
   },
   "source": [
    "# WOMBAT Motor Control and Data Logging"
   ]
  },
  {
   "cell_type": "markdown",
   "id": "ebee1822-9a5b-4953-83c9-94a6f7784af9",
   "metadata": {
    "tags": []
   },
   "source": [
    "## Motor Controller for WOMBAT Maze"
   ]
  },
  {
   "cell_type": "markdown",
   "id": "79d0e23c-a684-4942-aae2-910f2fb91b10",
   "metadata": {
    "jp-MarkdownHeadingCollapsed": true,
    "tags": []
   },
   "source": [
    "**The cell below is a python executable for control over the motors.** \n",
    "\n",
    "#### Getting Started\n",
    "    \n",
    "* First, run the arduino code titled Motor_controller.ino in the Arduino IDE (verify + upload) before running the motor controller python script here. The associated Arduino code is also included at the bottom of this notebook if needed\n",
    "* Next, run the motor controller python script below (shift + return)\n",
    "\n",
    "#### Motor GUI\n",
    "* The python code will generate a small gui under the cell that can be used to control the motors on the olfactometer\n",
    "* The buttons work as on/off toggle switches. Run up to two motors simultaneously.\n",
    "* This is used for priming/purging the reward lines or can be used for troubleshooting.\n",
    "#### Priming\n",
    "* When priming the lines run the liquid reward until a small amount has dispensed from the gavage\n",
    "#### Purging\n",
    "* When purging the lines, first remove the gavage from the nosepoke\n",
    "* Run any remaining liquid reward out of the lines\n",
    "* Next, run warm soapy water though the lines until the lines run clear \n",
    "* Last, let the lines run dry for 15 seconds\n",
    " #### Kill Serial Connection\n",
    "* To exit the serial connection interrupt the kernel by either pressing the square button at the top of the notebook or finding the interrupt kernel command under Kernel\n",
    "  \n",
    "**Potential Issues:**\n",
    "* If there is an issue with the port being busy for the arduino, restart the kernel and clear all outputs (under kernel at the top of the jupyter notebook) - this issue occurs when the python script is run prior to running the arduino script\n",
    "* If there is an issue with the port working when trying to run the python script, double check that the port name is correct: \n",
    "> arduino = serial.Serial('correct port name'), 9600)\n"
   ]
  },
  {
   "cell_type": "code",
   "execution_count": null,
   "id": "7399b724-3f06-4ac1-a2ae-ff23d5caa1bf",
   "metadata": {
    "tags": []
   },
   "outputs": [],
   "source": [
    "# T Stowell \n",
    "# Python exectuable for motor controller\n",
    "\n",
    "import serial\n",
    "import ipywidgets as widgets\n",
    "from IPython.display import display\n",
    "\n",
    "arduino = serial.Serial('/dev/tty.usbmodem101', 9600)\n",
    "\n",
    "def create_motor_toggle(motor_num, description):\n",
    "    toggle = widgets.ToggleButton(\n",
    "        description=description,\n",
    "        layout=widgets.Layout(width='300px')\n",
    "    )\n",
    "    \n",
    "    def on_toggle(change):\n",
    "        cmd = f\"S{motor_num}\" if change['new'] else f\"T{motor_num}\"\n",
    "        arduino.write(f\"{cmd}\\n\".encode())\n",
    "    \n",
    "    toggle.observe(on_toggle, names='value')\n",
    "    return toggle\n",
    "\n",
    "# Create toggle buttons\n",
    "motor_toggles = [\n",
    "    (1, \"Scent 1 Right\"),\n",
    "    (2, \"Scent 2 Right\"),\n",
    "    (3, \"Reward Right\"),\n",
    "    (4, \"Scent 1 Left\"),\n",
    "    (5, \"Scent 2 Left\"),\n",
    "    (6, \"Reward Left\")\n",
    "]\n",
    "\n",
    "for num, desc in motor_toggles:\n",
    "    display(create_motor_toggle(num, f\"M{num}: {desc}\"))\n",
    "\n",
    "def close_serial():\n",
    "    arduino.close()\n",
    "\n",
    "import atexit\n",
    "atexit.register(close_serial)\n"
   ]
  },
  {
   "cell_type": "markdown",
   "id": "aa17c5ee-e619-4384-aebb-72a23062a383",
   "metadata": {
    "tags": []
   },
   "source": [
    "## Data Logging for WOMBAT Maze"
   ]
  },
  {
   "cell_type": "markdown",
   "id": "50367a0e-e512-42d0-8a28-17f1a844e620",
   "metadata": {
    "jp-MarkdownHeadingCollapsed": true,
    "tags": []
   },
   "source": [
    "**The cell below contains the python code to log data for each trial of the maze.**\n",
    "\n",
    "#### Data Logging\n",
    "* First, run the arduino code WOMBAT.ino in the Arduino IDE (compile + run) before running the data logging python script here. The arduino code is in a markdown cell below if needed at the bottom of the notebook if needed\n",
    "* Next, run the data logging python script below (shift + return)\n",
    "\n",
    "#### Data Output\n",
    "* Data from the trials will output to the folder \"Wombat_logs\" \n",
    "* Data from the trial will also output in realtime below the python executable\n",
    "\n",
    "#### Kill the Serial Connection\n",
    "* To exit the serial connection interrupt the kernel by either pressing the square button at the top of the notebook or finding the interrupt kernel command under Kernel\n"
   ]
  },
  {
   "cell_type": "code",
   "execution_count": null,
   "id": "3c039cfe-f610-44ad-92a4-f7d40b33f9e8",
   "metadata": {
    "tags": []
   },
   "outputs": [],
   "source": [
    "import serial\n",
    "import os\n",
    "from datetime import datetime\n",
    "\n",
    "# prompt user to enter animal ID\n",
    "rat_id = input(\"Enter animal identification number: \")\n",
    "\n",
    "# serial port \n",
    "ser = serial.Serial('/dev/cu.usbmodem101', 9600, timeout=1)\n",
    "\n",
    "# captures the date for file logs\n",
    "now = datetime.now()\n",
    "date_str = now.strftime(\"%m-%d-%y\")\n",
    "\n",
    "# creates the folder path logs/rat_123/04-01-2025\"\n",
    "folder_path = os.path.join(\"WOMBAT_logs\", \"training_stage_1\", f\"rat_{rat_id}\", date_str)\n",
    "\n",
    "# creates the directory\n",
    "os.makedirs(folder_path, exist_ok=True)\n",
    "\n",
    "# creates the filename \n",
    "# e.g., \"arduino_log_rat123_2025-03-25_153001.txt\"\n",
    "timestamp_str = now.strftime('%m-%d-%y_%H%M')\n",
    "filename = f\"{rat_id}_{timestamp_str}.txt\"\n",
    "\n",
    "# Combine folder path and filename into one full path\n",
    "file_path = os.path.join(folder_path, filename)\n",
    "\n",
    "print(f\"Logging to {file_path} ...\")\n",
    "\n",
    "try:\n",
    "    with open(file_path, 'w', buffering=1) as outfile:\n",
    "        # (Optional) write headers\n",
    "        outfile.write(\"WOMBAT Alternation Maze\\n\")\n",
    "        outfile.write(now.strftime(\"%m-%d-%Y %H:%M:%S\") + \"\\n\")\n",
    "        outfile.write(\"***********************************\\n\\n\")\n",
    "        outfile.write(f\"**Animal Identification: {rat_id}\\n\\n\")\n",
    "        outfile.write(\"*************************************\\n\")\n",
    "        outfile.write(\"**********Experiment Started**********\\n\\n\")\n",
    "\n",
    "        # Continuously read and log serial data\n",
    "        while True:\n",
    "            line = ser.readline().decode('utf-8', errors='replace').strip()\n",
    "            if line:\n",
    "                # Prepend timestamp to each line\n",
    "                current_time = datetime.now().strftime(\"%H:%M:%S\")\n",
    "                formatted_line = f\"[{current_time}] {line}\"\n",
    "                print(formatted_line)\n",
    "                outfile.write(formatted_line + \"\\n\")\n",
    "\n",
    "except KeyboardInterrupt:\n",
    "    print(\"\\nInterrupted by user. Closing serial connection...\")\n",
    "    ser.close()\n"
   ]
  },
  {
   "cell_type": "markdown",
   "id": "72f2188f-e649-4929-a6bf-56780e3fc194",
   "metadata": {},
   "source": [
    "----\n",
    "----"
   ]
  },
  {
   "cell_type": "markdown",
   "id": "37079f23-cf3c-4be9-aa8b-5f2a5652c98e",
   "metadata": {
    "tags": []
   },
   "source": [
    "# Peripherals "
   ]
  },
  {
   "cell_type": "markdown",
   "id": "95ce3eee-807e-4bfe-812a-f9b4caf7104a",
   "metadata": {
    "jp-MarkdownHeadingCollapsed": true,
    "tags": []
   },
   "source": [
    "## Capactive Sensor Calibration"
   ]
  },
  {
   "cell_type": "markdown",
   "id": "ea2907e8-a3b9-4eaf-9f05-2dec9ff7d493",
   "metadata": {},
   "source": [
    "**Useful if you need to check the value coming from the capacitive sensors**\n",
    "* Only requires running arduino code, which can either be found under wombat/Arduino_code/Cap_sensor_test.ino or copy and paste from the cell containing the code in the Ardiuno section of this notebook (below) \n",
    "* Open the serial monitor under tools in the IDE to see the outputs\n",
    "* The thresholds for triggering the cap sensor can be changed by changing the values for the following\n",
    "    * const float TOUCH_THRESHOLD_1 = 5.25;  \n",
    "    * const float TOUCH_THRESHOLD_2 = 5.25;\n",
    "* Note that sensor 1 (channel 0) corresponds to the right nosepoke and sensor 2 (channel 3) corresponds to the left nosepoke\n",
    "* Also note that there is a shield pin that is used to control for noise in the system and it should be grounded to something separate from the main sensor"
   ]
  },
  {
   "cell_type": "markdown",
   "id": "438a86c6-9e87-4e2b-bea5-2f37a603f2e1",
   "metadata": {
    "jp-MarkdownHeadingCollapsed": true,
    "tags": []
   },
   "source": [
    "## Piezo Buzzer Calibration"
   ]
  },
  {
   "cell_type": "markdown",
   "id": "f7e90793-ba54-401e-b419-5239505cbfd8",
   "metadata": {},
   "source": [
    "**Useful to check that piezo buzzers are working and if you want to quickly test different frequency settings**\n",
    "\n",
    "* Requires running the piezo buzzer arduino code and the python exectuable below\n",
    "* Python executable will generate a simple on/off toggle switch\n",
    "* Change the following line in the arduino code to test different frequencies:\n",
    "    * const uint16_t TONE_HZ = 4000;     // where 4000 is 4000 Hz\n"
   ]
  },
  {
   "cell_type": "code",
   "execution_count": null,
   "id": "a296c807-1ce3-4216-b531-d656b20098b0",
   "metadata": {},
   "outputs": [],
   "source": [
    "\"\"\"\n",
    "Simple toggle button GUI that sends '1' or '0' over serial\n",
    "to switch a buzzer on the \n",
    "\n",
    "Adjust SERIAL_PORT to whatever the arduino is using  \n",
    "\"\"\"\n",
    "\n",
    "import tkinter as tk\n",
    "import serial\n",
    "import serial.tools.list_ports\n",
    "import sys\n",
    "\n",
    "# ------- CONFIG -------------------------------------------------\n",
    "SERIAL_PORT = '/dev/cu.usbmodem1201'      # something like \"COM3\" or \"/dev/ttyACM0\"\n",
    "BAUD = 9600\n",
    "\n",
    "def find_arduino_port():\n",
    "    \"\"\"Return the first port whose USB description looks like Arduino\"\"\"\n",
    "    for p in serial.tools.list_ports.comports():\n",
    "        if \"Arduino\" in p.description or \"CDC\" in p.description:\n",
    "            return p.device\n",
    "    return None\n",
    "\n",
    "port = SERIAL_PORT or find_arduino_port()\n",
    "if port is None:\n",
    "    sys.exit(\"No Arduino-like serial port found – edit SERIAL_PORT manually!\")\n",
    "\n",
    "try:\n",
    "    ser = serial.Serial(port, BAUD, timeout=1)\n",
    "except serial.SerialException as e:\n",
    "    sys.exit(f\"Could not open serial port {port}: {e}\")\n",
    "\n",
    "# Make sure the board had time to reset on port open\n",
    "ser.reset_input_buffer()\n",
    "\n",
    "# ---------------- TK GUI --------------------\n",
    "root = tk.Tk()\n",
    "root.title(\"Buzzer toggle\")\n",
    "\n",
    "state = tk.BooleanVar(value=False)   # False = OFF, True = ON\n",
    "\n",
    "def toggle():\n",
    "    new_state = not state.get()\n",
    "    state.set(new_state)\n",
    "    ser.write(b'1' if new_state else b'0')\n",
    "    button.configure(text=\"Buzzer ON\" if new_state else \"Buzzer OFF\",\n",
    "                     bg=\"#ff6666\" if new_state else \"#cccccc\")\n",
    "\n",
    "button = tk.Button(root,\n",
    "                   text=\"Buzzer OFF\",\n",
    "                   width=20,\n",
    "                   height=3,\n",
    "                   bg=\"#cccccc\",\n",
    "                   command=toggle)\n",
    "\n",
    "button.pack(padx=20, pady=20)\n",
    "\n",
    "def on_close():\n",
    "    ser.write(b'0')        # be sure to turn it off\n",
    "    ser.close()\n",
    "    root.destroy()\n",
    "\n",
    "root.protocol(\"WM_DELETE_WINDOW\", on_close)\n",
    "root.mainloop()\n"
   ]
  },
  {
   "cell_type": "markdown",
   "id": "058d1bc9-b883-4fd4-9b5c-d275c3d5391b",
   "metadata": {
    "jp-MarkdownHeadingCollapsed": true,
    "tags": []
   },
   "source": [
    "# Arduino Codes"
   ]
  },
  {
   "cell_type": "markdown",
   "id": "32a5984a-190f-45bd-b1fe-cbe60712a1e6",
   "metadata": {
    "jp-MarkdownHeadingCollapsed": true,
    "tags": []
   },
   "source": [
    "### Motor Controller"
   ]
  },
  {
   "cell_type": "markdown",
   "id": "6eaeb224-753a-46c1-a982-49c881e430ff",
   "metadata": {},
   "source": [
    "```cpp\n",
    "\n",
    "// T Stowell\n",
    "// Motor controller\n",
    "// Works in tandem with arduino uno microcontroller and python script (in jupyter notebook)\n",
    "\n",
    "#include <Wire.h>\n",
    "#include <Adafruit_MotorShield.h>\n",
    "\n",
    "Adafruit_MotorShield AFMSLeft(0x60);\n",
    "Adafruit_MotorShield AFMSRight(0x61);\n",
    "\n",
    "Adafruit_DCMotor* motors[6] = {\n",
    "  AFMSLeft.getMotor(1),  // M1: Scent 1 Right\n",
    "  AFMSLeft.getMotor(2),  // M2: Scent 2 Right\n",
    "  AFMSLeft.getMotor(3),  // M3: Reward Right\n",
    "  AFMSRight.getMotor(1), // M4: Scent 1 Left\n",
    "  AFMSRight.getMotor(2), // M5: Scent 2 Left\n",
    "  AFMSRight.getMotor(3)  // M6: Reward Left\n",
    "};\n",
    "\n",
    "void setup() {\n",
    "  Serial.begin(9600);\n",
    "  AFMSLeft.begin();\n",
    "  AFMSRight.begin();\n",
    "  \n",
    "  for(int i=0; i<6; i++) {\n",
    "    motors[i]->setSpeed(150);\n",
    "  }\n",
    "}\n",
    "\n",
    "void loop() {\n",
    "  if(Serial.available() > 0) {\n",
    "    String cmd = Serial.readStringUntil('\\n');\n",
    "    cmd.trim();\n",
    "    \n",
    "    if(cmd.length() == 2) {\n",
    "      char action = cmd[0];\n",
    "      int motorNum = cmd[1] - '1'; // Convert to 0-5 index\n",
    "      \n",
    "      if(motorNum >=0 && motorNum <6) {\n",
    "        if(action == 'S') {\n",
    "          motors[motorNum]->run(FORWARD);\n",
    "        }\n",
    "        else if(action == 'T') {\n",
    "          motors[motorNum]->run(RELEASE);\n",
    "        }\n",
    "      }\n",
    "    }\n",
    "  }\n",
    "}\n",
    "\n",
    "```"
   ]
  },
  {
   "cell_type": "markdown",
   "id": "91add5e8-0c8e-49e1-b36f-d11f5fd13249",
   "metadata": {
    "jp-MarkdownHeadingCollapsed": true,
    "tags": []
   },
   "source": [
    "### Capacitive Sensors"
   ]
  },
  {
   "cell_type": "markdown",
   "id": "1c2b1d2b-f0c0-4e8e-99d9-f8ad867883b4",
   "metadata": {},
   "source": [
    "```cpp \n",
    "\n",
    "#include <Wire.h>\n",
    "#include \"FDC1004.h\"\n",
    "\n",
    "FDC1004 sensor;\n",
    "\n",
    "// Sensor channels\n",
    "const uint8_t SENSOR1_CHANNEL = 0;  // CIN1\n",
    "const uint8_t SENSOR2_CHANNEL = 3;  // CIN2\n",
    "\n",
    "const uint8_t CAPDAC = 0;\n",
    "\n",
    "// Shield assignments (if using them physically)\n",
    "const uint8_t SHIELD1 = 1;  // SHLD1\n",
    "const uint8_t SHIELD2 = 2;  // SHLD2\n",
    "\n",
    "// Adjust thresholds as needed\n",
    "const float TOUCH_THRESHOLD_1 = 4.5;  \n",
    "const float TOUCH_THRESHOLD_2 = 5.25;\n",
    "\n",
    "\n",
    "// Track previous touch states\n",
    "bool wasTouched1 = false;\n",
    "bool wasTouched2 = false;\n",
    "\n",
    "void setup() {\n",
    "  Serial.begin(9600);\n",
    "  Wire.begin();\n",
    "\n",
    "  // Configure each sensor channel with its respective shield\n",
    "  // If you need shields explicitly, see library's `configureMeasurement` function\n",
    "  sensor.configureMeasurementSingle(0, SENSOR1_CHANNEL, CAPDAC); // Meas ID=0 → CIN1\n",
    "  sensor.configureMeasurementSingle(1, SENSOR2_CHANNEL, CAPDAC); // Meas ID=1 → CIN2\n",
    "\n",
    "\n",
    "\n",
    "\n",
    "  Serial.println(\"Touch sensors ready:\");\n",
    "}\n",
    "\n",
    "void loop() {\n",
    "  // --- SENSOR 1 ---\n",
    "  uint16_t rawValue1;\n",
    "  float capacitance1;\n",
    "\n",
    "  if (sensor.measureChannel(SENSOR1_CHANNEL, CAPDAC, &rawValue1) == 0) {\n",
    "    // Convert raw data to pF\n",
    "    capacitance1 = ((int16_t)rawValue1) / 5242.88;\n",
    "    bool isTouched1 = capacitance1 > TOUCH_THRESHOLD_1;\n",
    "\n",
    "    // Detect state change for Sensor 1\n",
    "    if (isTouched1 && !wasTouched1) {\n",
    "      Serial.print(\"Sensor 1: Touch detected! pF = \");\n",
    "      Serial.println(capacitance1, 2); // prints 2 decimal places\n",
    "    } \n",
    "    else if (!isTouched1 && wasTouched1) {\n",
    "      Serial.print(\"Sensor 1: Touch released! pF = \");\n",
    "      Serial.println(capacitance1, 2);\n",
    "    }\n",
    "  }\n",
    "\n",
    "  // --- SENSOR 2 ---\n",
    "  uint16_t rawValue2;\n",
    "  float capacitance2;\n",
    "\n",
    "  if (sensor.measureChannel(SENSOR2_CHANNEL, CAPDAC, &rawValue2) == 0) {\n",
    "    // Convert raw data to pF\n",
    "    capacitance2 = ((int16_t)rawValue2) / 5242.88;\n",
    "    bool isTouched2 = capacitance2 > TOUCH_THRESHOLD_2;\n",
    "\n",
    "    // Detect state change for Sensor 2\n",
    "    if (isTouched2 && !wasTouched2) {\n",
    "      Serial.print(\"Sensor 2: Touch detected! pF = \");\n",
    "      Serial.println(capacitance2, 2);\n",
    "    } \n",
    "    else if (!isTouched2 && wasTouched2) {\n",
    "      Serial.print(\"Sensor 2: Touch released! pF = \");\n",
    "      Serial.println(capacitance2, 2);\n",
    "    }\n",
    "  }\n",
    "\n",
    "  delay(100);  // adjust for responsiveness as needed\n",
    "}\n",
    "\n"
   ]
  },
  {
   "cell_type": "markdown",
   "id": "f16c12dd-3dc4-4ea7-b630-600119e43c28",
   "metadata": {
    "jp-MarkdownHeadingCollapsed": true,
    "tags": []
   },
   "source": [
    "### Piezo Buzzer"
   ]
  },
  {
   "cell_type": "markdown",
   "id": "20970ca6-220d-48e6-aac6-2f7f2f64b1f1",
   "metadata": {},
   "source": [
    "```cpp\n",
    "\n",
    "\n",
    "/* -------------------------------------------\n",
    "   Buzzer-toggle demo\n",
    "   -------------------------------------------\n",
    "   Connect piezo buzzer (or an active buzzer module)\n",
    "   – Signal  : D9   (change BUZZ_PIN if you like)\n",
    "   – GND     : GND\n",
    "   ------------------------------------------- */\n",
    "\n",
    "const uint8_t BUZZ_PIN = 9;        // digital I/O pin for the buzzer\n",
    "const uint16_t TONE_HZ = 4000;     // tone frequency if you use tone()\n",
    "bool buzzerState = false;          // remembers current state\n",
    "\n",
    "void setup() {\n",
    "  pinMode(BUZZ_PIN, OUTPUT);\n",
    "  digitalWrite(BUZZ_PIN, LOW);\n",
    "  Serial.begin(9600);\n",
    "  // Give the PC a moment to open the port:\n",
    "  while (!Serial) { /* Leonardo/MKR ZERO need this to enumerate */ }\n",
    "  Serial.println(F(\"Ready for commands: '1'=on  '0'=off\"));\n",
    "}\n",
    "\n",
    "void loop() {\n",
    "  if (Serial.available()) {\n",
    "    char cmd = Serial.read();\n",
    "    if (cmd == '1') {                 // turn ON\n",
    "      buzzerState = true;\n",
    "#ifdef __AVR__\n",
    "      // AVR boards can use tone()\n",
    "      tone(BUZZ_PIN, TONE_HZ);        // continuous tone\n",
    "#else\n",
    "      digitalWrite(BUZZ_PIN, HIGH);   // active buzzer module\n",
    "#endif\n",
    "      Serial.println(F(\"ON\"));\n",
    "    } else if (cmd == '0') {          // turn OFF\n",
    "      buzzerState = false;\n",
    "#ifdef __AVR__\n",
    "      noTone(BUZZ_PIN);\n",
    "#else\n",
    "      digitalWrite(BUZZ_PIN, LOW);\n",
    "#endif\n",
    "      Serial.println(F(\"OFF\"));\n",
    "    }\n",
    "  }\n",
    "\n",
    "  // (nothing else happens; main loop idles at a few µs per pass)\n",
    "}\n",
    "```"
   ]
  },
  {
   "cell_type": "code",
   "execution_count": null,
   "id": "9498448d-c3d4-4f15-aa7c-2202e659e50e",
   "metadata": {},
   "outputs": [],
   "source": []
  }
 ],
 "metadata": {
  "kernelspec": {
   "display_name": "Python 3 (ipykernel)",
   "language": "python",
   "name": "python3"
  },
  "language_info": {
   "codemirror_mode": {
    "name": "ipython",
    "version": 3
   },
   "file_extension": ".py",
   "mimetype": "text/x-python",
   "name": "python",
   "nbconvert_exporter": "python",
   "pygments_lexer": "ipython3",
   "version": "3.11.7"
  }
 },
 "nbformat": 4,
 "nbformat_minor": 5
}
